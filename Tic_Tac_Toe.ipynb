{
 "cells": [
  {
   "cell_type": "code",
   "execution_count": 1,
   "id": "0d3fe25c",
   "metadata": {},
   "outputs": [],
   "source": [
    "from IPython.display import clear_output\n",
    "\n",
    "def display(test_board):\n",
    "    clear_output()\n",
    "    print(test_board[7] +\"|\" +test_board[8] +\"|\" +test_board[9])\n",
    "    print(test_board[4] +\"|\" +test_board[5] +\"|\" +test_board[6])\n",
    "    print(test_board[1] +\"|\" +test_board[2] +\"|\" +test_board[3])"
   ]
  },
  {
   "cell_type": "code",
   "execution_count": 2,
   "id": "8694eb2a",
   "metadata": {},
   "outputs": [],
   "source": [
    "def player_input():\n",
    "    marker=\" \"\n",
    "    \n",
    "    while not(marker ==\"X\" or marker ==\"O\"):\n",
    "        marker = input(\"Player1:Do you want to be X or O\").upper()\n",
    "        \n",
    "    if marker =='X':\n",
    "            return('X' ,'O')\n",
    "    else:\n",
    "            return('O' ,'X')   "
   ]
  },
  {
   "cell_type": "code",
   "execution_count": 3,
   "id": "dc9edf7f",
   "metadata": {},
   "outputs": [
    {
     "name": "stdout",
     "output_type": "stream",
     "text": [
      "Player1:Do you want to be X or Oo\n",
      "O\n",
      "X\n"
     ]
    }
   ],
   "source": [
    "player1_marker ,player2_marker =player_input()\n",
    "print(player1_marker)\n",
    "print(player2_marker)"
   ]
  },
  {
   "cell_type": "code",
   "execution_count": 4,
   "id": "123260a5",
   "metadata": {},
   "outputs": [],
   "source": [
    "def place_marker(board ,marker ,position):\n",
    "    board[position ]=marker"
   ]
  },
  {
   "cell_type": "code",
   "execution_count": 5,
   "id": "9a9fff29",
   "metadata": {},
   "outputs": [
    {
     "name": "stdout",
     "output_type": "stream",
     "text": [
      "G|H|I\n",
      "D|E|F\n",
      "A|B|C\n"
     ]
    }
   ],
   "source": [
    "test_board = [\"Z\" ,\"A\" ,\"B\" ,\"C\" ,\"D\" ,\"E\" ,\"F\" ,\"G\" ,\"H\" ,\"I\"]\n",
    "display(test_board)"
   ]
  },
  {
   "cell_type": "code",
   "execution_count": 6,
   "id": "54d10dcf",
   "metadata": {},
   "outputs": [],
   "source": [
    "def win_check(board , mark):\n",
    "    return( (board[7] == mark and board[8]== mark and board[9]==mark) or\n",
    "           (board[4] == mark and board[5]== mark and board[6]==mark) or\n",
    "           (board[1] == mark and board[2]== mark and board[3]==mark) or\n",
    "           (board[7] == mark and board[4]== mark and board[1]==mark) or\n",
    "           (board[2] == mark and board[8]== mark and board[5]==mark) or\n",
    "           (board[3] == mark and board[6]== mark and board[9]==mark) or\n",
    "           (board[7] == mark and board[5]== mark and board[3]==mark) or\n",
    "           (board[9] == mark and board[5]== mark and board[1]==mark))\n",
    "    "
   ]
  },
  {
   "cell_type": "code",
   "execution_count": 7,
   "id": "bcfefb36",
   "metadata": {},
   "outputs": [],
   "source": [
    "def space_check(board,position):\n",
    "    return board[position]==\" \""
   ]
  },
  {
   "cell_type": "code",
   "execution_count": 8,
   "id": "35bbc97e",
   "metadata": {},
   "outputs": [],
   "source": [
    "import random\n",
    "\n",
    "def choose_first():\n",
    "    if random.randint(0,1)==0:\n",
    "        return 'Player 2'\n",
    "    else:\n",
    "        return 'Player 1'"
   ]
  },
  {
   "cell_type": "code",
   "execution_count": 9,
   "id": "aafc24ea",
   "metadata": {},
   "outputs": [],
   "source": [
    "def full_board_check(board):\n",
    "    for i in range(1 ,10):\n",
    "        if space_check(board ,i):\n",
    "            return False\n",
    "    return True"
   ]
  },
  {
   "cell_type": "code",
   "execution_count": 10,
   "id": "777bebd0",
   "metadata": {},
   "outputs": [],
   "source": [
    "def player_choice(board):\n",
    "    position=0\n",
    "    while position not in[1,2,3,4,5,6,7,8,9]or not space_check(board , position):\n",
    "        position=int(input(\"Enter your position(1-9)\"))\n",
    "    return position"
   ]
  },
  {
   "cell_type": "code",
   "execution_count": 11,
   "id": "c4aaf0a5",
   "metadata": {},
   "outputs": [],
   "source": [
    "def replay():\n",
    "    return input(\"You want to play again(yes  ,no)\").lower().startswith('y')"
   ]
  },
  {
   "cell_type": "code",
   "execution_count": null,
   "id": "cacf3ceb",
   "metadata": {},
   "outputs": [
    {
     "name": "stdout",
     "output_type": "stream",
     "text": [
      "X| | \n",
      "X|O| \n",
      "X|O| \n",
      "Congratulations! player1 won the game\n"
     ]
    }
   ],
   "source": [
    "print(\"Welcome to TIC-TAC-TOE!!!\")\n",
    "\n",
    "while True:\n",
    "    theBoard=[' ']*10\n",
    "    player1_marker , player2_marker=player_input()\n",
    "    turn=choose_first()\n",
    "    print(turn +\" will go first \")\n",
    "    \n",
    "    play_game=input(\"Do u want to play it again(yes/no)\")\n",
    "    \n",
    "    if play_game.lower()[0]=='y':\n",
    "        game_on=True\n",
    "    else:\n",
    "        game_on=False\n",
    "    while game_on:\n",
    "        if turn=='Player 1':\n",
    "            display(theBoard)\n",
    "            position=player_choice(theBoard)\n",
    "            place_marker(theBoard , player1_marker , position)\n",
    "            \n",
    "            if win_check(theBoard , player1_marker):\n",
    "                display(theBoard)\n",
    "                print(\"Congratulations! player1 won the game\")\n",
    "                game_on=False\n",
    "            else:\n",
    "                if full_board_check(theBoard):\n",
    "                    display(theBoard)\n",
    "                    print(\"the game is draw!!!\")\n",
    "                    break\n",
    "                else:\n",
    "                    turn=\"Player 2\"\n",
    "        else:\n",
    "            display(theBoard)\n",
    "            position  =player_choice(theBoard)\n",
    "            place_marker(theBoard , player2_marker , position)\n",
    "            \n",
    "            if win_check(theBoard , player2_marker):\n",
    "                display(theBoard)\n",
    "                print(\"Congratulations!  player2  won the game\")\n",
    "                game_on=False\n",
    "            else:\n",
    "                if full_board_check(theBoard):\n",
    "                    display(theBoard)\n",
    "                    print(\"the game is draw!!!\")\n",
    "                    break\n",
    "                else:\n",
    "                    turn=\"Player 1\"\n",
    "if not replay():\n",
    "    break"
   ]
  }
 ],
 "metadata": {
  "kernelspec": {
   "display_name": "Python 3",
   "language": "python",
   "name": "python3"
  },
  "language_info": {
   "codemirror_mode": {
    "name": "ipython",
    "version": 3
   },
   "file_extension": ".py",
   "mimetype": "text/x-python",
   "name": "python",
   "nbconvert_exporter": "python",
   "pygments_lexer": "ipython3",
   "version": "3.8.8"
  }
 },
 "nbformat": 4,
 "nbformat_minor": 5
}
